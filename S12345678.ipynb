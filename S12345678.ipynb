{
 "cells": [
  {
   "cell_type": "markdown",
   "id": "b582ce2f",
   "metadata": {},
   "source": [
    "\n",
    "**Student Name**: Elen Tesfai  \n",
    "**S Number**: S12345678\n",
    "\n",
    "## Question 10\n",
    "\n",
    "Create a new Jupyter Notebook (the name of the notebook should be your S number). Add a Markdown cell that contains your name. Add a Code cell and write Python that uses loops to draw the following pattern:\n"
   ]
  },
  {
   "cell_type": "markdown",
   "id": "d4f0fe8c",
   "metadata": {},
   "source": [
    "# Task 10: Drawing Pattern"
   ]
  },
  {
   "cell_type": "code",
   "execution_count": 1,
   "id": "0a44cef2",
   "metadata": {},
   "outputs": [
    {
     "name": "stdout",
     "output_type": "stream",
     "text": [
      "*      *\n",
      "**    **\n",
      "***  ***\n",
      "********\n"
     ]
    }
   ],
   "source": [
    "# Loop to draw the pattern\n",
    "for i in range(1, 5):\n",
    "    print('*' * i + ' ' * (8 - 2 * i) + '*' * i)"
   ]
  }
 ],
 "metadata": {
  "kernelspec": {
   "display_name": "Python 3",
   "language": "python",
   "name": "python3"
  },
  "language_info": {
   "codemirror_mode": {
    "name": "ipython",
    "version": 3
   },
   "file_extension": ".py",
   "mimetype": "text/x-python",
   "name": "python",
   "nbconvert_exporter": "python",
   "pygments_lexer": "ipython3",
   "version": "3.10.11"
  }
 },
 "nbformat": 4,
 "nbformat_minor": 5
}
